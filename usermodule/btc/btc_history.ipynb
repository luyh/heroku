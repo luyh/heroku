{
 "cells": [
  {
   "cell_type": "code",
   "execution_count": 32,
   "metadata": {
    "collapsed": true
   },
   "outputs": [
    {
     "data": {
      "text/plain": [
       "[{'close': 6479.1285,\n  'high': 6592.5417,\n  'low': 6471.0184,\n  'open': 6577.6831,\n  'timestamp': 1541635200,\n  'volume': 20361.01455476},\n {'close': 6418.3598,\n  'high': 6640.0,\n  'low': 6391.3001,\n  'open': 6480.7052,\n  'timestamp': 1541721600,\n  'volume': 21234.81487396},\n {'close': 6430.6142,\n  'high': 6475.8497,\n  'low': 6414.4006,\n  'open': 6418.3596,\n  'timestamp': 1541808000,\n  'volume': 16714.76596263},\n {'close': 6451.9522,\n  'high': 6462.1633,\n  'low': 6357.0,\n  'open': 6430.6144,\n  'timestamp': 1541894400,\n  'volume': 17946.1798993}]"
      ]
     },
     "execution_count": 32,
     "metadata": {},
     "output_type": "execute_result"
    }
   ],
   "source": [
    "import requests\n",
    "\n",
    "\n",
    "\n",
    "ot_key = ''\n",
    "\n",
    "def get_candles(contract, since, until, duration):\n",
    "    url = 'http://hist-quote.1tokentrade.cn/candles?since={}&until={}&contract={}&duration={}&format=json'.format(\n",
    "        since, until, contract, duration)\n",
    "    \n",
    "    r = requests.get(url, headers={'ot-key': ot_key})\n",
    "\n",
    "    if r.status_code != 200:\n",
    "        print('fail get candles', r.status_code, r.text)\n",
    "        return\n",
    "    r = r.json()\n",
    "    return r\n",
    "\n",
    "\n",
    "date = '2018-11-08'\n",
    "since = date\n",
    "until = '2018-11-12'\n",
    "\n",
    "contract = 'okex/btc.usdt'\n",
    "\n",
    "get_candles(contract, since, until, duration = '1d')\n"
   ]
  },
  {
   "cell_type": "code",
   "execution_count": 8,
   "metadata": {
    "collapsed": false
   },
   "outputs": [
    {
     "name": "stdout",
     "output_type": "stream",
     "text": [
      "2019-03-14\n"
     ]
    }
   ],
   "source": [
    "import time\n",
    "\n",
    "time_local = time.localtime()\n",
    "today = time.strftime(\"%Y-%m-%d\",time_local)\n",
    "\n",
    "\n",
    "print(today)"
   ]
  },
  {
   "cell_type": "code",
   "execution_count": 13,
   "metadata": {},
   "outputs": [],
   "source": [
    "date = '2018-02-01'\n",
    "since = date\n",
    "until = today\n",
    "\n",
    "contract = 'okex/btc.usdt'\n",
    "\n",
    "r_json = get_candles(contract, since, until, duration = '1d')"
   ]
  },
  {
   "cell_type": "code",
   "execution_count": 18,
   "metadata": {
    "collapsed": false
   },
   "outputs": [
    {
     "name": "stdout",
     "output_type": "stream",
     "text": [
      "<class 'list'>\n406\n{'open': 10289.8899, 'close': 9222.292, 'high': 10299.0, 'low': 8867.8443, 'volume': 34747.32767936, 'timestamp': 1517443200}\n{'open': 3882.5, 'close': 3866.1, 'high': 3891.9, 'low': 3839.1, 'volume': 34508.38403817, 'timestamp': 1552435200}\n"
     ]
    }
   ],
   "source": [
    "print(type(r_json))\n",
    "\n",
    "print(len(r_json))\n",
    "print(r_json[0])\n",
    "print(r_json[len(r_json)-1])"
   ]
  },
  {
   "cell_type": "code",
   "execution_count": 26,
   "metadata": {},
   "outputs": [],
   "source": [
    "\n",
    "\n",
    "for i in range(len(r_json)):\n",
    "    time_local = time.localtime(r_json[i]['timestamp'])\n",
    "    time_str = time.strftime(\"%Y-%m-%d\",time_local)\n",
    "    r_json[i]['time'] = time_str\n",
    "    \n"
   ]
  },
  {
   "cell_type": "code",
   "execution_count": 27,
   "metadata": {},
   "outputs": [
    {
     "name": "stdout",
     "output_type": "stream",
     "text": [
      "406\n         time      close\n0  2018-02-01  9222.2920\n1  2018-02-02  8893.7700\n2  2018-02-03  9092.1304\n3  2018-02-04  8198.9811\n4  2018-02-05  6959.4452\n           time      close\n401  2019-03-09  3942.2339\n402  2019-03-10  3916.0110\n403  2019-03-11  3870.5990\n404  2019-03-12  3882.5000\n405  2019-03-13  3866.1000\n"
     ]
    }
   ],
   "source": [
    "import pandas as pd\n",
    "\n",
    "candle = pd.DataFrame(r_json,columns=['time','close'])\n",
    "print(candle.__len__())\n",
    "print(candle.head())\n",
    "print(candle.tail())\n",
    "\n",
    "\n"
   ]
  },
  {
   "cell_type": "code",
   "execution_count": 31,
   "metadata": {},
   "outputs": [
    {
     "data": {
      "image/png": "[encoded data removed]",
      "text/plain": [
       "<matplotlib.figure.Figure at 0x113fd27b8>"
      ]
     },
     "metadata": {},
     "output_type": "display_data"
    }
   ],
   "source": [
    "from matplotlib import pyplot as plt\n",
    "\n",
    "candle.plot(x = 'time',logy = True ,grid = True)\n",
    "plt.show()\n"
   ]
  },
  {
   "cell_type": "code",
   "execution_count": null,
   "metadata": {},
   "outputs": [],
   "source": []
  }
 ],
 "metadata": {
  "kernelspec": {
   "display_name": "Python 2",
   "language": "python",
   "name": "python2"
  },
  "language_info": {
   "codemirror_mode": {
    "name": "ipython",
    "version": 2
   },
   "file_extension": ".py",
   "mimetype": "text/x-python",
   "name": "python",
   "nbconvert_exporter": "python",
   "pygments_lexer": "ipython2",
   "version": "2.7.6"
  }
 },
 "nbformat": 4,
 "nbformat_minor": 0
}
