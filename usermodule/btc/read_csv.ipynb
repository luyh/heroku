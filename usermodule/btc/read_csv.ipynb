{
 "cells": [
  {
   "cell_type": "code",
   "execution_count": 3,
   "metadata": {
    "collapsed": false
   },
   "outputs": [
    {
     "name": "stdout",
     "output_type": "stream",
     "text": [
      "           time  value value_classification       close\n0    2018-02-01     30                 Fear   9222.2920\n1    2018-02-02     15         Extreme Fear   8893.7700\n2    2018-02-03     40                 Fear   9092.1304\n3    2018-02-04     24                 Fear   8198.9811\n4    2018-02-05     11         Extreme Fear   6959.4452\n5    2018-02-06      8         Extreme Fear   7626.8158\n6    2018-02-07     36                 Fear   7599.8869\n7    2018-02-08     30                 Fear   8271.0116\n8    2018-02-09     44                 Fear   8694.9995\n9    2018-02-10     54              Neutral   8542.7155\n10   2018-02-11     31                 Fear   8086.9996\n11   2018-02-12     42                 Fear   8890.2377\n12   2018-02-13     35                 Fear   8532.2574\n13   2018-02-14     55                Greed   9473.7372\n14   2018-02-15     71                Greed  10043.2700\n15   2018-02-16     67                Greed  10172.0000\n16   2018-02-17     74                Greed  10172.0000\n17   2018-02-18     63                Greed  10172.0000\n18   2018-02-19     67                Greed  10172.0000\n19   2018-02-20     74                Greed  10172.0000\n20   2018-02-21     54              Neutral  10172.0000\n21   2018-02-22     44                 Fear  10172.0000\n22   2018-02-23     39                 Fear  10172.0000\n23   2018-02-24     31                 Fear  10172.0000\n24   2018-02-25     33                 Fear  10172.0000\n25   2018-02-26     37                 Fear  10172.0000\n26   2018-02-27     44                 Fear  10172.0000\n27   2018-02-28     41                 Fear  10325.0000\n28   2018-03-01     38                 Fear  10925.6209\n29   2018-03-02     47              Neutral  11019.3795\n..          ...    ...                  ...         ...\n375  2019-02-13     48              Neutral   3609.3501\n376  2019-02-14     48              Neutral   3591.0961\n377  2019-02-15     43                 Fear   3601.8134\n378  2019-02-16     43                 Fear   3616.3302\n379  2019-02-17     38                 Fear   3667.9173\n380  2019-02-17     41                 Fear   3667.9173\n381  2019-02-18     63                Greed   3899.6992\n382  2019-02-19     65                Greed   3912.3022\n383  2019-02-20     59                Greed   3970.6133\n384  2019-02-21     59                Greed   3937.7655\n385  2019-02-22     61                Greed   3963.0483\n386  2019-02-23     63                Greed   4116.9659\n387  2019-02-24     69                Greed   3748.2444\n388  2019-02-25     47              Neutral   3827.3937\n389  2019-02-26     40                 Fear   3809.3896\n390  2019-02-27     39                 Fear   3816.6381\n391  2019-02-28     39                 Fear   3814.6824\n392  2019-03-01     42                 Fear   3821.8005\n393  2019-03-02     41                 Fear   3821.4898\n394  2019-03-03     44                 Fear   3806.7416\n395  2019-03-04     36                 Fear   3716.4987\n396  2019-03-05     35                 Fear   3856.7812\n397  2019-03-06     42                 Fear   3863.5024\n398  2019-03-07     56                Greed   3873.5246\n399  2019-03-08     54              Neutral   3865.2053\n400  2019-03-09     55                Greed   3942.2339\n401  2019-03-10     55                Greed   3916.0110\n402  2019-03-11     56                Greed   3870.5990\n403  2019-03-12     56                Greed   3882.5000\n404  2019-03-13     54              Neutral   3866.1000\n\n[405 rows x 4 columns]\n"
     ]
    }
   ],
   "source": [
    "import pandas as pd\n",
    "\n",
    "read = pd.read_csv('test.csv')\n",
    "print(read)"
   ]
  },
  {
   "cell_type": "code",
   "execution_count": null,
   "metadata": {},
   "outputs": [],
   "source": []
  }
 ],
 "metadata": {
  "kernelspec": {
   "display_name": "Python 2",
   "language": "python",
   "name": "python2"
  },
  "language_info": {
   "codemirror_mode": {
    "name": "ipython",
    "version": 2
   },
   "file_extension": ".py",
   "mimetype": "text/x-python",
   "name": "python",
   "nbconvert_exporter": "python",
   "pygments_lexer": "ipython2",
   "version": "2.7.6"
  }
 },
 "nbformat": 4,
 "nbformat_minor": 0
}
