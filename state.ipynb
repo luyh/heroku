{
 "cells": [
  {
   "cell_type": "code",
   "execution_count": 1,
   "metadata": {
    "collapsed": true
   },
   "outputs": [
    {
     "name": "stdout",
     "output_type": "stream",
     "text": [
      "系统类型: darwin\n正在连接chrome浏览器...\n"
     ]
    },
    {
     "name": "stdout",
     "output_type": "stream",
     "text": [
      "已打开chrome浏览器，并成功连接\n"
     ]
    }
   ],
   "source": [
    "from hpg import HPG\n",
    "from state_machine import State, Event, acts_as_state_machine, after, before, InvalidStateTransition\n",
    "\n",
    "hpg = HPG()"
   ]
  },
  {
   "cell_type": "code",
   "execution_count": 6,
   "metadata": {},
   "outputs": [
    {
     "name": "stdout",
     "output_type": "stream",
     "text": [
      "当前状态为：started\n当前状态为：started\n打开hpg\n"
     ]
    },
    {
     "name": "stdout",
     "output_type": "stream",
     "text": [
      "T - 上海发传单\n输入用户名及密码...\n"
     ]
    },
    {
     "name": "stdout",
     "output_type": "stream",
     "text": [
      "点击登陆...\n"
     ]
    },
    {
     "name": "stdout",
     "output_type": "stream",
     "text": [
      "已登陆HPG，完成初始化操作\n当前状态为：logined\n切换到我要买页面\n"
     ]
    },
    {
     "name": "stdout",
     "output_type": "stream",
     "text": [
      "当前状态为：toBuyed\n"
     ]
    },
    {
     "name": "stdout",
     "output_type": "stream",
     "text": [
      "当前状态为：waitedTask\n"
     ]
    }
   ],
   "source": [
    "@acts_as_state_machine\n",
    "class Process:\n",
    "    started = State(initial=True)\n",
    "    logined = State()\n",
    "    toBuyed = State()\n",
    "    queredTask = State()\n",
    "    waitedTask = State()\n",
    "    refreshedDriver = State()\n",
    "    receivedTaske = State()\n",
    "    #checkedTask = State()\n",
    "    submittedTask = State()\n",
    "\n",
    "    loginEvent = Event(from_states=started, to_state=logined)\n",
    "    toBuyEvent = Event(from_states=logined, to_state=toBuyed)\n",
    "    quereTaskEvent = Event(from_states=toBuyed, to_state=waitedTask)\n",
    "    waitTaskEvent = Event(from_states=waitedTask, to_state=receivedTaske)\n",
    "    #checkTask = Event(from_states=waitedTask, to_state=checkedTask)\n",
    "    receiveTaskEvent = Event(from_states=receivedTaske, to_state=submittedTask)\n",
    "\n",
    "    def transition(self, event):\n",
    "        try:\n",
    "            #print('transition from {} to {}'.format(event.from_states, event.to_state))\n",
    "            event()\n",
    "        except InvalidStateTransition as err:\n",
    "            #print('Error: transition from {} to {} failed'.format(event.from_states, event.to_state))\n",
    "            pass\n",
    "        \n",
    "    def print_state(self):\n",
    "        print('当前状态为：{}'.format(self.current_state))\n",
    "    \n",
    "    def __init__(self):\n",
    "        pass\n",
    "    \n",
    "    def start(self):\n",
    "        self.print_state()\n",
    "        self.transition(self.loginEvent)\n",
    "    \n",
    "    @after('loginEvent')\n",
    "    def login(self):\n",
    "        hpg.login()\n",
    "        self.print_state()\n",
    "        self.transition(self.toBuyEvent)\n",
    "\n",
    "        \n",
    "    @after('toBuyEvent')\n",
    "    def toBuy(self):\n",
    "        hpg.toBuy()\n",
    "        self.print_state()\n",
    "        self.transition(self.quereTaskEvent)\n",
    "        \n",
    "        \n",
    "    @after('quereTaskEvent')\n",
    "    def quereTask(self):\n",
    "        hpg.queue_task()\n",
    "        self.print_state()\n",
    "        self.transition(self.waitTaskEvent)\n",
    "        \n",
    "\n",
    "\n",
    "p = Process()\n",
    "p.start()"
   ]
  },
  {
   "cell_type": "code",
   "execution_count": 9,
   "metadata": {},
   "outputs": [
    {
     "name": "stdout",
     "output_type": "stream",
     "text": [
      "receivedTaske\n"
     ]
    }
   ],
   "source": [
    "print(p.current_state)"
   ]
  },
  {
   "cell_type": "code",
   "execution_count": null,
   "metadata": {},
   "outputs": [],
   "source": []
  }
 ],
 "metadata": {
  "kernelspec": {
   "display_name": "Python 2",
   "language": "python",
   "name": "python2"
  },
  "language_info": {
   "codemirror_mode": {
    "name": "ipython",
    "version": 2
   },
   "file_extension": ".py",
   "mimetype": "text/x-python",
   "name": "python",
   "nbconvert_exporter": "python",
   "pygments_lexer": "ipython2",
   "version": "2.7.6"
  }
 },
 "nbformat": 4,
 "nbformat_minor": 0
}
