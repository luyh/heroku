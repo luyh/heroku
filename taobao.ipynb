{
 "cells": [
  {
   "cell_type": "code",
   "execution_count": 5,
   "metadata": {},
   "outputs": [
    {
     "name": "stdout",
     "output_type": "stream",
     "text": [
      "打开taobao\n"
     ]
    },
    {
     "name": "stdout",
     "output_type": "stream",
     "text": [
      "淘宝网 - 淘！我喜欢\n"
     ]
    }
   ],
   "source": [
    "from chrome import chrome\n",
    "\n",
    "taobao = chrome()\n",
    "def taobao_login():\n",
    "        print('打开taobao')\n",
    "        taobao.get(\"https://login.taobao.com\")\n",
    "        print(taobao.title)\n",
    "        print('请自行完成登陆操作')\n",
    "        \n",
    "#TODO:发送淘宝二维码给手机淘宝扫码登陆\n",
    "        \n",
    "taobao_login()"
   ]
  },
  {
   "cell_type": "code",
   "execution_count": null,
   "metadata": {},
   "outputs": [],
   "source": []
  }
 ],
 "metadata": {
  "kernelspec": {
   "display_name": "Python 2",
   "language": "python",
   "name": "python2"
  },
  "language_info": {
   "codemirror_mode": {
    "name": "ipython",
    "version": 2
   },
   "file_extension": ".py",
   "mimetype": "text/x-python",
   "name": "python",
   "nbconvert_exporter": "python",
   "pygments_lexer": "ipython2",
   "version": "2.7.6"
  }
 },
 "nbformat": 4,
 "nbformat_minor": 0
}
